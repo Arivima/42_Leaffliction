{
 "cells": [
  {
   "cell_type": "code",
   "execution_count": 3,
   "id": "43f879f7",
   "metadata": {},
   "outputs": [],
   "source": [
    "import torch\n",
    "from torch import nn\n",
    "from pathlib import Path\n",
    "from datetime import datetime\n",
    "\n",
    "class LeaflictionCNN(nn.Module):\n",
    "\n",
    "    def __init__(self, num_classes):\n",
    "        \"\"\"\n",
    "        CNN architecture\n",
    "        Params:\n",
    "        - num_classes: Number of classes to predict.\n",
    "        \"\"\"\n",
    "        super().__init__()\n",
    "        def CBR(in_c, out_c):\n",
    "            return nn.Sequential(\n",
    "                nn.Conv2d(in_c, out_c, 3, padding=1, bias=False),\n",
    "                nn.BatchNorm2d(out_c),\n",
    "                nn.ReLU(inplace=True),\n",
    "            )\n",
    "        self.features = nn.Sequential(\n",
    "            CBR(3, 16), nn.MaxPool2d(2),\n",
    "            CBR(16, 32), nn.MaxPool2d(2),\n",
    "            CBR(32, 64), nn.MaxPool2d(2),\n",
    "            CBR(64, 128), nn.AdaptiveAvgPool2d(1)\n",
    "        )\n",
    "        self.classifier = nn.Sequential(\n",
    "            nn.Flatten(),\n",
    "            nn.Dropout(0.2),\n",
    "            nn.Linear(128, num_classes),\n",
    "        )\n",
    "\n",
    "    def forward(self, x):\n",
    "        x = self.features(x)\n",
    "        x = self.classifier(x)\n",
    "        return x"
   ]
  },
  {
   "cell_type": "code",
   "execution_count": null,
   "id": "67725660",
   "metadata": {},
   "outputs": [],
   "source": [
    "from itertools import count\n",
    "\n",
    "def make_train_fn():\n",
    "    counter = count(1)\n",
    "\n",
    "    def train_one_epoch(model, dataloader, loss_fn, optimizer):\n",
    "        \"\"\"Training loop on one epoch, from dataloader\"\"\"\n",
    "        model.train()\n",
    "        device = next(model.parameters()).device\n",
    "        epoch = next(counter)\n",
    "\n",
    "        for batch_idx, (X, y) in enumerate(\n",
    "            tqdm(dataloader, total=len(dataloader), desc=f\"[Epoch {epoch:02d}]\"), start=1\n",
    "            ):\n",
    "            X, y = X.to(device), y.to(device)\n",
    "\n",
    "            optimizer.zero_grad()\n",
    "            logits = model(X)\n",
    "            loss = loss_fn(logits, y)\n",
    "            loss.backward()\n",
    "            optimizer.step()\n",
    "    \n",
    "    return train_one_epoch\n"
   ]
  },
  {
   "cell_type": "code",
   "execution_count": null,
   "id": "bbce2a18",
   "metadata": {},
   "outputs": [],
   "source": [
    "import numpy as np\n",
    "from tqdm import tqdm\n",
    "from typing import Any\n",
    "\n",
    "def evaluate(model, dataloader, split, loss_fn=None) -> dict[str, Any]:\n",
    "    \"\"\"\n",
    "    Model evaluation on dataloader\n",
    "    Returns dict with accuracy, loss (if provided), y_true, y_pred.\n",
    "    \"\"\"\n",
    "    model.eval()\n",
    "    device = next(model.parameters()).device\n",
    "    y_true, y_pred = [], []\n",
    "    total_loss = 0.0\n",
    "    tqdm_desc = f\"Evaluation {split:>5} [{len(dataloader):>3} batches | {len(dataloader.dataset):>5} imgs]\"\n",
    "\n",
    "    with torch.no_grad():\n",
    "        pbar = tqdm(dataloader, total=len(dataloader), desc=tqdm_desc)\n",
    "        for X, y in pbar:\n",
    "            X, y = X.to(device), y.to(device)\n",
    "            logits = model(X)\n",
    "            preds = logits.argmax(1)\n",
    "\n",
    "            y_true.extend(y.tolist())\n",
    "            y_pred.extend(preds.cpu().tolist())\n",
    "\n",
    "            if loss_fn is not None:\n",
    "                total_loss += loss_fn(logits, y).item() * y.size(0)\n",
    "\n",
    "            n_samples = len(y_true)\n",
    "            accuracy = np.mean(np.array(y_true) == np.array(y_pred)) if y_true else 0.0\n",
    "            avg_loss = total_loss / n_samples if (loss_fn and n_samples) else None\n",
    "\n",
    "            postfix = {\"accuracy\": f\"{accuracy:.4f}\"}\n",
    "            if avg_loss is not None:\n",
    "                postfix[\"loss\"] = f\"{avg_loss:.4f}\"\n",
    "            pbar.set_postfix(postfix)\n",
    "\n",
    "    return {\n",
    "        \"accuracy\": accuracy,\n",
    "        \"loss\": avg_loss,\n",
    "        \"y_true\": y_true,\n",
    "        \"y_pred\": y_pred,\n",
    "    }\n"
   ]
  },
  {
   "cell_type": "code",
   "execution_count": 108,
   "id": "d7a76d7a",
   "metadata": {},
   "outputs": [
    {
     "name": "stderr",
     "output_type": "stream",
     "text": [
      "[2025-09-18 16:12:55] [INFO] scripts.utils.data: Initializing LeaflictionData\n",
      "[2025-09-18 16:12:55] [INFO] scripts.utils.data: Datasets are ready. Skipping preprocessing\n",
      "[2025-09-18 16:12:55] [INFO] scripts.utils.data: Successfully loaded '/Users/a.villa.massone/Code/42/42_Leaffliction/images_augmented/Apple'\n",
      "[2025-09-18 16:12:55] [INFO] scripts.utils.data: Successfully loaded '/Users/a.villa.massone/Code/42/42_Leaffliction/images_augmented/Apple_train'\n",
      "[2025-09-18 16:12:55] [INFO] scripts.utils.data: Successfully loaded '/Users/a.villa.massone/Code/42/42_Leaffliction/images_augmented/Apple_val'\n",
      "[2025-09-18 16:12:55] [INFO] scripts.utils.data: Successfully loaded '/Users/a.villa.massone/Code/42/42_Leaffliction/images_augmented/Apple_test'\n",
      "[2025-09-18 16:12:55] [INFO] scripts.utils.data: Successfully loaded '/Users/a.villa.massone/Code/42/42_Leaffliction/images_augmented/Apple_train_raw'\n",
      "[2025-09-18 16:12:55] [INFO] scripts.utils.data: Data loaders available : dict_keys(['train', 'test', 'val'])\n"
     ]
    },
    {
     "name": "stdout",
     "output_type": "stream",
     "text": [
      "class_names    ['Apple_Black_rot', 'Apple_healthy', 'Apple_rust', 'Apple_scab']\n",
      "labels         [0, 1, 2, 3]\n",
      "train_size     14189\n",
      "val_size       505\n",
      "test_size      632\n",
      "batch_size     64\n",
      "train_batches  222\n",
      "val_batches    8\n",
      "test_batches   10\n"
     ]
    }
   ],
   "source": [
    "import sys\n",
    "import os\n",
    "\n",
    "sys.path.append(os.path.abspath(\"..\"))\n",
    "\n",
    "from scripts.utils.data import LeaflictionData\n",
    "\n",
    "batch_size = 64\n",
    "\n",
    "data = LeaflictionData(\n",
    "    original_dir=\"/Users/a.villa.massone/Code/42/42_Leaffliction/images/Apple\",\n",
    "    force_preproc=False,\n",
    "    test_split=0.2,\n",
    "    val_split=0.2,\n",
    "    batch_size=batch_size,\n",
    ")\n",
    "\n",
    "class_names = list(data.class_to_idx.keys())\n",
    "labels = list(data.class_to_idx.values())\n",
    "\n",
    "meta = {}\n",
    "meta['class_names'] = class_names\n",
    "meta['labels'] = labels\n",
    "meta['train_size'] = len(data.loaders['train'].dataset)\n",
    "meta['val_size'] = len(data.loaders['val'].dataset)\n",
    "meta['test_size'] = len(data.loaders['test'].dataset)\n",
    "meta['batch_size'] = data.loaders['train'].batch_size\n",
    "meta['train_batches'] = len(data.loaders['train'])\n",
    "meta['val_batches'] = len(data.loaders['val'])\n",
    "meta['test_batches'] = len(data.loaders['test'])\n",
    "for k, v in meta.items():\n",
    "    print(f\"{k:<15}{v}\")\n"
   ]
  },
  {
   "cell_type": "code",
   "execution_count": 4,
   "id": "4e50b0dc",
   "metadata": {},
   "outputs": [
    {
     "name": "stdout",
     "output_type": "stream",
     "text": [
      "Using mps device\n",
      "LeaflictionCNN(\n",
      "  (features): Sequential(\n",
      "    (0): Sequential(\n",
      "      (0): Conv2d(3, 16, kernel_size=(3, 3), stride=(1, 1), padding=(1, 1), bias=False)\n",
      "      (1): BatchNorm2d(16, eps=1e-05, momentum=0.1, affine=True, track_running_stats=True)\n",
      "      (2): ReLU(inplace=True)\n",
      "    )\n",
      "    (1): MaxPool2d(kernel_size=2, stride=2, padding=0, dilation=1, ceil_mode=False)\n",
      "    (2): Sequential(\n",
      "      (0): Conv2d(16, 32, kernel_size=(3, 3), stride=(1, 1), padding=(1, 1), bias=False)\n",
      "      (1): BatchNorm2d(32, eps=1e-05, momentum=0.1, affine=True, track_running_stats=True)\n",
      "      (2): ReLU(inplace=True)\n",
      "    )\n",
      "    (3): MaxPool2d(kernel_size=2, stride=2, padding=0, dilation=1, ceil_mode=False)\n",
      "    (4): Sequential(\n",
      "      (0): Conv2d(32, 64, kernel_size=(3, 3), stride=(1, 1), padding=(1, 1), bias=False)\n",
      "      (1): BatchNorm2d(64, eps=1e-05, momentum=0.1, affine=True, track_running_stats=True)\n",
      "      (2): ReLU(inplace=True)\n",
      "    )\n",
      "    (5): MaxPool2d(kernel_size=2, stride=2, padding=0, dilation=1, ceil_mode=False)\n",
      "    (6): Sequential(\n",
      "      (0): Conv2d(64, 128, kernel_size=(3, 3), stride=(1, 1), padding=(1, 1), bias=False)\n",
      "      (1): BatchNorm2d(128, eps=1e-05, momentum=0.1, affine=True, track_running_stats=True)\n",
      "      (2): ReLU(inplace=True)\n",
      "    )\n",
      "    (7): AdaptiveAvgPool2d(output_size=1)\n",
      "  )\n",
      "  (classifier): Sequential(\n",
      "    (0): Flatten(start_dim=1, end_dim=-1)\n",
      "    (1): Dropout(p=0.2, inplace=False)\n",
      "    (2): Linear(in_features=128, out_features=4, bias=True)\n",
      "  )\n",
      ")\n"
     ]
    }
   ],
   "source": [
    "\n",
    "device = (\"cuda\" if torch.cuda.is_available()\n",
    "          else \"mps\" if torch.backends.mps.is_available()\n",
    "          else \"cpu\")\n",
    "print(f\"Using {device} device\")\n",
    "\n",
    "model = LeaflictionCNN(num_classes=4).to(device)\n",
    "print(model)"
   ]
  },
  {
   "cell_type": "code",
   "execution_count": 6,
   "id": "28ba80d0",
   "metadata": {},
   "outputs": [
    {
     "name": "stdout",
     "output_type": "stream",
     "text": [
      "Starting training of LeaflictionCNN\n",
      "[Epoch 01]\n"
     ]
    },
    {
     "name": "stderr",
     "output_type": "stream",
     "text": [
      "Epoch 1: 100%|██████████| 222/222 [00:53<00:00,  4.14it/s]\n",
      "Evaluation: 100%|██████████| 222/222 [00:41<00:00,  5.36it/s]\n"
     ]
    },
    {
     "name": "stdout",
     "output_type": "stream",
     "text": [
      "Evaluation Train: train_loss=0.3245  train_acc=0.8836\n"
     ]
    },
    {
     "name": "stderr",
     "output_type": "stream",
     "text": [
      "Evaluation: 100%|██████████| 8/8 [00:03<00:00,  2.21it/s]\n"
     ]
    },
    {
     "name": "stdout",
     "output_type": "stream",
     "text": [
      "Evaluation Val:   val_loss=0.2548    val_acc=0.9010\n",
      "[Epoch 02]\n"
     ]
    },
    {
     "name": "stderr",
     "output_type": "stream",
     "text": [
      "Epoch 2: 100%|██████████| 222/222 [00:38<00:00,  5.78it/s]\n",
      "Evaluation: 100%|██████████| 222/222 [00:30<00:00,  7.24it/s]\n"
     ]
    },
    {
     "name": "stdout",
     "output_type": "stream",
     "text": [
      "Evaluation Train: train_loss=0.1787  train_acc=0.9490\n"
     ]
    },
    {
     "name": "stderr",
     "output_type": "stream",
     "text": [
      "Evaluation: 100%|██████████| 8/8 [00:00<00:00,  9.33it/s]\n"
     ]
    },
    {
     "name": "stdout",
     "output_type": "stream",
     "text": [
      "Evaluation Val:   val_loss=0.1647    val_acc=0.9485\n",
      "[Epoch 03]\n"
     ]
    },
    {
     "name": "stderr",
     "output_type": "stream",
     "text": [
      "Epoch 3: 100%|██████████| 222/222 [00:38<00:00,  5.79it/s]\n",
      "Evaluation: 100%|██████████| 222/222 [00:29<00:00,  7.55it/s]\n"
     ]
    },
    {
     "name": "stdout",
     "output_type": "stream",
     "text": [
      "Evaluation Train: train_loss=0.1839  train_acc=0.9301\n"
     ]
    },
    {
     "name": "stderr",
     "output_type": "stream",
     "text": [
      "Evaluation: 100%|██████████| 8/8 [00:01<00:00,  6.09it/s]\n"
     ]
    },
    {
     "name": "stdout",
     "output_type": "stream",
     "text": [
      "Evaluation Val:   val_loss=0.1435    val_acc=0.9366\n",
      "[Epoch 04]\n"
     ]
    },
    {
     "name": "stderr",
     "output_type": "stream",
     "text": [
      "Epoch 4: 100%|██████████| 222/222 [00:44<00:00,  5.00it/s]\n",
      "Evaluation: 100%|██████████| 222/222 [00:27<00:00,  8.07it/s]\n"
     ]
    },
    {
     "name": "stdout",
     "output_type": "stream",
     "text": [
      "Evaluation Train: train_loss=0.1921  train_acc=0.9290\n"
     ]
    },
    {
     "name": "stderr",
     "output_type": "stream",
     "text": [
      "Evaluation: 100%|██████████| 8/8 [00:00<00:00,  8.64it/s]\n"
     ]
    },
    {
     "name": "stdout",
     "output_type": "stream",
     "text": [
      "Evaluation Val:   val_loss=0.1708    val_acc=0.9366\n",
      "[Epoch 05]\n"
     ]
    },
    {
     "name": "stderr",
     "output_type": "stream",
     "text": [
      "Epoch 5: 100%|██████████| 222/222 [00:56<00:00,  3.94it/s]\n",
      "Evaluation: 100%|██████████| 222/222 [00:26<00:00,  8.46it/s]\n"
     ]
    },
    {
     "name": "stdout",
     "output_type": "stream",
     "text": [
      "Evaluation Train: train_loss=0.2125  train_acc=0.9244\n"
     ]
    },
    {
     "name": "stderr",
     "output_type": "stream",
     "text": [
      "Evaluation: 100%|██████████| 8/8 [00:00<00:00,  9.74it/s]\n"
     ]
    },
    {
     "name": "stdout",
     "output_type": "stream",
     "text": [
      "Evaluation Val:   val_loss=0.2518    val_acc=0.9089\n",
      "[Epoch 06]\n"
     ]
    },
    {
     "name": "stderr",
     "output_type": "stream",
     "text": [
      "Epoch 6: 100%|██████████| 222/222 [00:54<00:00,  4.08it/s]\n",
      "Evaluation: 100%|██████████| 222/222 [00:25<00:00,  8.61it/s]\n"
     ]
    },
    {
     "name": "stdout",
     "output_type": "stream",
     "text": [
      "Evaluation Train: train_loss=0.0736  train_acc=0.9769\n"
     ]
    },
    {
     "name": "stderr",
     "output_type": "stream",
     "text": [
      "Evaluation: 100%|██████████| 8/8 [00:00<00:00,  9.29it/s]\n"
     ]
    },
    {
     "name": "stdout",
     "output_type": "stream",
     "text": [
      "Evaluation Val:   val_loss=0.0470    val_acc=0.9802\n",
      "[Epoch 07]\n"
     ]
    },
    {
     "name": "stderr",
     "output_type": "stream",
     "text": [
      "Epoch 7: 100%|██████████| 222/222 [01:00<00:00,  3.64it/s]\n",
      "Evaluation: 100%|██████████| 222/222 [00:58<00:00,  3.77it/s]\n"
     ]
    },
    {
     "name": "stdout",
     "output_type": "stream",
     "text": [
      "Evaluation Train: train_loss=0.1423  train_acc=0.9520\n"
     ]
    },
    {
     "name": "stderr",
     "output_type": "stream",
     "text": [
      "Evaluation: 100%|██████████| 8/8 [00:03<00:00,  2.17it/s]\n"
     ]
    },
    {
     "name": "stdout",
     "output_type": "stream",
     "text": [
      "Evaluation Val:   val_loss=0.0731    val_acc=0.9782\n",
      "[Epoch 08]\n"
     ]
    },
    {
     "name": "stderr",
     "output_type": "stream",
     "text": [
      "Epoch 8: 100%|██████████| 222/222 [00:38<00:00,  5.70it/s]\n",
      "Evaluation: 100%|██████████| 222/222 [00:33<00:00,  6.69it/s]\n"
     ]
    },
    {
     "name": "stdout",
     "output_type": "stream",
     "text": [
      "Evaluation Train: train_loss=0.0836  train_acc=0.9662\n"
     ]
    },
    {
     "name": "stderr",
     "output_type": "stream",
     "text": [
      "Evaluation: 100%|██████████| 8/8 [00:00<00:00,  9.55it/s]\n"
     ]
    },
    {
     "name": "stdout",
     "output_type": "stream",
     "text": [
      "Evaluation Val:   val_loss=0.0478    val_acc=0.9842\n",
      "[Epoch 09]\n"
     ]
    },
    {
     "name": "stderr",
     "output_type": "stream",
     "text": [
      "Epoch 9: 100%|██████████| 222/222 [00:49<00:00,  4.50it/s]\n",
      "Evaluation: 100%|██████████| 222/222 [00:30<00:00,  7.31it/s]\n"
     ]
    },
    {
     "name": "stdout",
     "output_type": "stream",
     "text": [
      "Evaluation Train: train_loss=0.0482  train_acc=0.9834\n"
     ]
    },
    {
     "name": "stderr",
     "output_type": "stream",
     "text": [
      "Evaluation: 100%|██████████| 8/8 [00:01<00:00,  6.45it/s]\n"
     ]
    },
    {
     "name": "stdout",
     "output_type": "stream",
     "text": [
      "Evaluation Val:   val_loss=0.0206    val_acc=0.9980\n",
      "[Epoch 10]\n"
     ]
    },
    {
     "name": "stderr",
     "output_type": "stream",
     "text": [
      "Epoch 10: 100%|██████████| 222/222 [01:07<00:00,  3.30it/s]\n",
      "Evaluation: 100%|██████████| 222/222 [00:29<00:00,  7.53it/s]\n"
     ]
    },
    {
     "name": "stdout",
     "output_type": "stream",
     "text": [
      "Evaluation Train: train_loss=0.0611  train_acc=0.9810\n"
     ]
    },
    {
     "name": "stderr",
     "output_type": "stream",
     "text": [
      "Evaluation: 100%|██████████| 8/8 [00:00<00:00,  8.58it/s]\n"
     ]
    },
    {
     "name": "stdout",
     "output_type": "stream",
     "text": [
      "Evaluation Val:   val_loss=0.0645    val_acc=0.9743\n",
      "[Epoch 11]\n"
     ]
    },
    {
     "name": "stderr",
     "output_type": "stream",
     "text": [
      "Epoch 11: 100%|██████████| 222/222 [01:01<00:00,  3.63it/s]\n",
      "Evaluation: 100%|██████████| 222/222 [00:30<00:00,  7.36it/s]\n"
     ]
    },
    {
     "name": "stdout",
     "output_type": "stream",
     "text": [
      "Evaluation Train: train_loss=0.0346  train_acc=0.9899\n"
     ]
    },
    {
     "name": "stderr",
     "output_type": "stream",
     "text": [
      "Evaluation: 100%|██████████| 8/8 [00:01<00:00,  7.12it/s]\n"
     ]
    },
    {
     "name": "stdout",
     "output_type": "stream",
     "text": [
      "Evaluation Val:   val_loss=0.0231    val_acc=0.9941\n",
      "[Epoch 12]\n"
     ]
    },
    {
     "name": "stderr",
     "output_type": "stream",
     "text": [
      "Epoch 12: 100%|██████████| 222/222 [00:58<00:00,  3.76it/s]\n",
      "Evaluation: 100%|██████████| 222/222 [00:31<00:00,  7.11it/s]\n"
     ]
    },
    {
     "name": "stdout",
     "output_type": "stream",
     "text": [
      "Evaluation Train: train_loss=0.0276  train_acc=0.9924\n"
     ]
    },
    {
     "name": "stderr",
     "output_type": "stream",
     "text": [
      "Evaluation: 100%|██████████| 8/8 [00:01<00:00,  6.18it/s]\n"
     ]
    },
    {
     "name": "stdout",
     "output_type": "stream",
     "text": [
      "Evaluation Val:   val_loss=0.0299    val_acc=0.9881\n",
      "[Epoch 13]\n"
     ]
    },
    {
     "name": "stderr",
     "output_type": "stream",
     "text": [
      "Epoch 13: 100%|██████████| 222/222 [01:01<00:00,  3.60it/s]\n",
      "Evaluation: 100%|██████████| 222/222 [00:29<00:00,  7.43it/s]\n"
     ]
    },
    {
     "name": "stdout",
     "output_type": "stream",
     "text": [
      "Evaluation Train: train_loss=0.3070  train_acc=0.9127\n"
     ]
    },
    {
     "name": "stderr",
     "output_type": "stream",
     "text": [
      "Evaluation: 100%|██████████| 8/8 [00:01<00:00,  7.88it/s]\n"
     ]
    },
    {
     "name": "stdout",
     "output_type": "stream",
     "text": [
      "Evaluation Val:   val_loss=0.1787    val_acc=0.9386\n",
      "[Epoch 14]\n"
     ]
    },
    {
     "name": "stderr",
     "output_type": "stream",
     "text": [
      "Epoch 14: 100%|██████████| 222/222 [01:09<00:00,  3.19it/s]\n",
      "Evaluation: 100%|██████████| 222/222 [00:32<00:00,  6.90it/s]\n"
     ]
    },
    {
     "name": "stdout",
     "output_type": "stream",
     "text": [
      "Evaluation Train: train_loss=0.0396  train_acc=0.9890\n"
     ]
    },
    {
     "name": "stderr",
     "output_type": "stream",
     "text": [
      "Evaluation: 100%|██████████| 8/8 [00:00<00:00,  9.09it/s]\n"
     ]
    },
    {
     "name": "stdout",
     "output_type": "stream",
     "text": [
      "Evaluation Val:   val_loss=0.0263    val_acc=0.9921\n",
      "[Epoch 15]\n"
     ]
    },
    {
     "name": "stderr",
     "output_type": "stream",
     "text": [
      "Epoch 15: 100%|██████████| 222/222 [01:02<00:00,  3.54it/s]\n",
      "Evaluation: 100%|██████████| 222/222 [00:29<00:00,  7.49it/s]\n"
     ]
    },
    {
     "name": "stdout",
     "output_type": "stream",
     "text": [
      "Evaluation Train: train_loss=0.0354  train_acc=0.9884\n"
     ]
    },
    {
     "name": "stderr",
     "output_type": "stream",
     "text": [
      "Evaluation: 100%|██████████| 8/8 [00:01<00:00,  6.82it/s]\n"
     ]
    },
    {
     "name": "stdout",
     "output_type": "stream",
     "text": [
      "Evaluation Val:   val_loss=0.0396    val_acc=0.9861\n",
      "[Epoch 16]\n"
     ]
    },
    {
     "name": "stderr",
     "output_type": "stream",
     "text": [
      "Epoch 16: 100%|██████████| 222/222 [01:02<00:00,  3.53it/s]\n",
      "Evaluation: 100%|██████████| 222/222 [00:47<00:00,  4.69it/s]\n"
     ]
    },
    {
     "name": "stdout",
     "output_type": "stream",
     "text": [
      "Evaluation Train: train_loss=0.0288  train_acc=0.9902\n"
     ]
    },
    {
     "name": "stderr",
     "output_type": "stream",
     "text": [
      "Evaluation: 100%|██████████| 8/8 [00:04<00:00,  1.99it/s]"
     ]
    },
    {
     "name": "stdout",
     "output_type": "stream",
     "text": [
      "Evaluation Val:   val_loss=0.0262    val_acc=0.9921\n",
      "Early stopping. Restoring state from epoch 9\n",
      "Done!\n"
     ]
    },
    {
     "name": "stderr",
     "output_type": "stream",
     "text": [
      "\n"
     ]
    }
   ],
   "source": [
    "####### TRAINING #############\n",
    "\n",
    "from torch import nn\n",
    "import matplotlib.pyplot as plt\n",
    "\n",
    "learning_rate = 1e-3\n",
    "weight_decay = 1e-4\n",
    "loss = nn.CrossEntropyLoss()\n",
    "optimizer = torch.optim.AdamW( model.parameters(), lr=learning_rate, weight_decay=weight_decay)\n",
    "epochs = 50\n",
    "\n",
    "best_acc, best_epoch, patience, bad = 0.0, 0, 7, 0\n",
    "best_state = None\n",
    "history = {\n",
    "    \"train_loss\":[],\n",
    "    \"train_acc\":[],\n",
    "    \"val_loss\":[],\n",
    "    \"val_acc\":[],\n",
    "}\n",
    "train_one_epoch = make_train_fn()\n",
    "\n",
    "print(\"Starting training of LeaflictionCNN\")\n",
    "for epoch in range(1, epochs + 1):\n",
    "    # training and evaluations with logs\n",
    "    train_one_epoch(model=model, dataloader=data.loaders['train'], loss_fn=loss, optimizer=optimizer)\n",
    "    train_results = evaluate(model=model, dataloader=data.loaders['train'], set=\"train\", loss_fn=loss)\n",
    "    val_results = evaluate(model=model, dataloader=data.loaders['val'], set=\"val\",  loss_fn=loss)\n",
    "\n",
    "    # record evaluation history\n",
    "    history[\"train_loss\"].append(train_results[\"loss\"])\n",
    "    history[\"train_acc\"].append(train_results[\"accuracy\"])\n",
    "    history[\"val_loss\"].append(val_results[\"loss\"])\n",
    "    history[\"val_acc\"].append(val_results[\"accuracy\"])\n",
    "\n",
    "    # early stopping with patience - restaures best weights\n",
    "    if val_results['accuracy'] > best_acc:\n",
    "        best_acc = val_results['accuracy']\n",
    "        best_epoch = epoch\n",
    "        best_state = {k: v.cpu() for k,v in model.state_dict().items()}\n",
    "        bad = 0\n",
    "    else:\n",
    "        bad += 1\n",
    "        if bad >= patience:\n",
    "            print(f\"Early stopping. Restoring state from epoch {best_epoch}\")\n",
    "            model.load_state_dict({k: v.to(device) for k,v in best_state.items()})\n",
    "            break\n",
    "        \n",
    "print(\"Training done!\")\n"
   ]
  },
  {
   "cell_type": "code",
   "execution_count": 62,
   "id": "3bc1c464",
   "metadata": {},
   "outputs": [
    {
     "name": "stdout",
     "output_type": "stream",
     "text": [
      "Starting evaluation of LeaflictionCNN\n"
     ]
    },
    {
     "name": "stderr",
     "output_type": "stream",
     "text": [
      "Evaluation  test [ 10 batches |   632 imgs]: 100%|██████████| 10/10 [00:04<00:00,  2.20it/s, accuracy=0.9889]"
     ]
    },
    {
     "name": "stdout",
     "output_type": "stream",
     "text": [
      "Evaluation done!\n"
     ]
    },
    {
     "name": "stderr",
     "output_type": "stream",
     "text": [
      "\n"
     ]
    }
   ],
   "source": [
    "####### EVALUATION #############\n",
    "\n",
    "print(\"Starting evaluation of LeaflictionCNN\")\n",
    "\n",
    "test_results = evaluate(model=model, dataloader=data.loaders['test'], split=\"test\")\n",
    "        \n",
    "print(\"Evaluation done!\")\n"
   ]
  },
  {
   "cell_type": "code",
   "execution_count": null,
   "id": "34a9f961",
   "metadata": {},
   "outputs": [],
   "source": [
    "def plot_learning_curves(\n",
    "    train_loss, \n",
    "    val_loss, \n",
    "    train_acc, \n",
    "    val_acc, \n",
    "    out_dir,\n",
    "    filename=\"learning_curves.png\"\n",
    "):\n",
    "    Path(out_dir).mkdir(parents=True, exist_ok=True)\n",
    "    epochs = range(1, len(train_loss) + 1)\n",
    "    fig, (ax1, ax2) = plt.subplots(1, 2, figsize=(12,5))\n",
    "\n",
    "    # Loss \n",
    "    ax1.plot(epochs, train_loss, label=\"Train Loss\")\n",
    "    ax1.plot(epochs, val_loss,   label=\"Val Loss\")\n",
    "    ax1.set_xlabel(\"Epoch\")\n",
    "    ax1.set_ylabel(\"Loss\")\n",
    "    ax1.set_title(\"Learning Curve - Loss\")\n",
    "    ax1.legend()\n",
    "    ax1.grid(True, linestyle=\"--\", alpha=0.4)\n",
    "\n",
    "    # Accuracy \n",
    "    ax2.plot(epochs, train_acc, label=\"Train Acc\")\n",
    "    ax2.plot(epochs, val_acc,   label=\"Val Acc\")\n",
    "    ax2.set_xlabel(\"Epoch\")\n",
    "    ax2.set_ylabel(\"Accuracy\")\n",
    "    ax2.set_title(\"Learning Curve - Accuracy\")\n",
    "    ax2.legend()\n",
    "    ax2.grid(True, linestyle=\"--\", alpha=0.4)\n",
    "\n",
    "    # plot\n",
    "    plt.tight_layout()\n",
    "    out_path = Path(out_dir) / filename\n",
    "    fig.savefig(out_path, bbox_inches=\"tight\", dpi=150)\n",
    "    plt.close(fig)\n",
    "\n",
    "    print(f\"Saved learning curves plots to: \\n- {out_path}\")\n"
   ]
  },
  {
   "cell_type": "code",
   "execution_count": null,
   "id": "ca638582",
   "metadata": {},
   "outputs": [],
   "source": [
    "import csv\n",
    "\n",
    "def save_history_csv(history, out_dir):\n",
    "    \"\"\"save training history as csv\"\"\"\n",
    "    filename = \"learning_history.csv\"\n",
    "    out_path = Path(out_dir) / Path(filename)\n",
    "    Path(out_path).parent.mkdir(parents=True, exist_ok=True)\n",
    "    \n",
    "    with open(out_path, \"w\", newline=\"\") as f:\n",
    "        writer = csv.writer(f)\n",
    "        writer.writerow([\"epoch\", \"train_loss\", \"train_acc\", \"val_loss\", \"val_acc\"])\n",
    "        for i in range(len(history[\"train_loss\"])):\n",
    "            writer.writerow([i+1,\n",
    "                             history[\"train_loss\"][i],\n",
    "                             history[\"train_acc\"][i],\n",
    "                             history[\"val_loss\"][i],\n",
    "                             history[\"val_acc\"][i]])\n",
    "    print(f\"Saved history to: \\n- {out_path}\")"
   ]
  },
  {
   "cell_type": "code",
   "execution_count": 106,
   "id": "4b09b504",
   "metadata": {},
   "outputs": [],
   "source": [
    "import pandas as pd\n",
    "from sklearn.metrics import classification_report\n",
    "\n",
    "\n",
    "def export_classification_reports(\n",
    "    out_dir,\n",
    "    class_names,\n",
    "    train_results=None,\n",
    "    val_results=None,\n",
    "    test_results=None,\n",
    "    base_filename=\"classification_report\",\n",
    "):\n",
    "    \"\"\"\n",
    "    Exports classification reports for train val and test\n",
    "    train_results / val_results / test_results : dict avec 'y_true' et 'y_pred'\n",
    "    \"\"\"\n",
    "\n",
    "    Path(out_dir).mkdir(parents=True, exist_ok=True)\n",
    "\n",
    "    out_txt = Path(out_dir) / f\"{base_filename}.txt\"\n",
    "    out_csv = Path(out_dir) / f\"{base_filename}.csv\"\n",
    "\n",
    "    if out_txt.exists():\n",
    "        out_txt.unlink()\n",
    "    if out_csv.exists():\n",
    "        out_csv.unlink()\n",
    "\n",
    "    with out_txt.open(\"w\") as f:\n",
    "        f.write(\"===== Classification reports =====\\n\")\n",
    "        for k, v in meta.items():\n",
    "            f.write(f\"{k:<15}:{v}\\n\")\n",
    "        f.write(\"\\n\\n\")\n",
    "\n",
    "    def _process_split(results, split):\n",
    "        \"\"\"Append exportation for one split\"\"\"\n",
    "        if results is None:\n",
    "            return\n",
    "        y_true = np.asarray(results[\"y_true\"])\n",
    "        y_pred = np.asarray(results[\"y_pred\"])\n",
    "        labels = np.unique(y_true)\n",
    "\n",
    "        # text\n",
    "        cr_txt = classification_report(\n",
    "            y_true, y_pred, labels=labels, target_names=class_names,\n",
    "            digits=3, zero_division=0\n",
    "        )\n",
    "\n",
    "        if out_csv.exists():\n",
    "            out_csv.unlink()\n",
    "        with out_txt.open(\"a\") as f:\n",
    "            f.write(f\"===== {split.upper()} =====\\n\")\n",
    "            f.write(cr_txt + \"\\n\\n\")\n",
    "\n",
    "        # csv\n",
    "        cr_dict = classification_report(\n",
    "            y_true, y_pred, labels=labels, target_names=class_names,\n",
    "            digits=3, zero_division=0, output_dict=True\n",
    "        )\n",
    "        df = pd.DataFrame(cr_dict).T\n",
    "        idx_map = {str(lbl): name for lbl, name in zip(labels, class_names)}\n",
    "        df = df.rename(index=idx_map)\n",
    "        df[\"split\"] = split\n",
    "\n",
    "        if out_csv.exists():\n",
    "            df.to_csv(out_csv, mode=\"a\", header=False)\n",
    "        else:\n",
    "            df.to_csv(out_csv, index=True)\n",
    "\n",
    "        print(f\"Saved classification report for '{split}' to:\\n- {out_txt}\\n- {out_csv}\")\n",
    "\n",
    "\n",
    "    for split, results in {\n",
    "        \"train\": train_results,\n",
    "        \"val\": val_results,\n",
    "        \"test\": test_results,\n",
    "    }.items():\n",
    "        _process_split(results, split)\n"
   ]
  },
  {
   "cell_type": "code",
   "execution_count": null,
   "id": "3d88f2cb",
   "metadata": {},
   "outputs": [],
   "source": [
    "from sklearn.metrics import confusion_matrix, ConfusionMatrixDisplay\n",
    "\n",
    "def export_confusion_matrices(\n",
    "    train_results=None,\n",
    "    val_results=None,\n",
    "    test_results=None,\n",
    "    out_dir=\".\",\n",
    "    class_names=None,\n",
    "    filename=\"confusion_matrices.png\",\n",
    "):\n",
    "    \"\"\"Export confusion matrices in a png\"\"\"\n",
    "\n",
    "    def _plot_confusion_matrix(ax, y_true, y_pred, labels, class_names, title):\n",
    "        \"\"\"Helper pour tracer une matrice de confusion sur un axe donné.\"\"\"\n",
    "        cm = confusion_matrix(y_true, y_pred, labels=labels)\n",
    "        disp = ConfusionMatrixDisplay(confusion_matrix=cm, display_labels=class_names)\n",
    "        disp.plot(ax=ax)\n",
    "        ax.set_title(title)\n",
    "\n",
    "    available = {\n",
    "        \"Train\": train_results,\n",
    "        \"Validation\": val_results,\n",
    "        \"Test\": test_results,\n",
    "    }\n",
    "    splits = {k: v for k, v in available.items() if v is not None}\n",
    "\n",
    "    if not splits:\n",
    "        raise ValueError(\"No split provided\")\n",
    "\n",
    "    labels = range(len(class_names))\n",
    "\n",
    "    # Plot\n",
    "    if len(splits) == 3:\n",
    "        fig, axes = plt.subplots(2, 2, figsize=(12, 10))\n",
    "        axes = axes.flatten()\n",
    "        fig.delaxes(axes[-1])\n",
    "\n",
    "    else:\n",
    "        fig, axes = plt.subplots(1, len(splits), figsize=(5 * len(splits), 5))\n",
    "        axes = np.atleast_1d(axes)\n",
    "\n",
    "    mapping = dict(zip(splits.keys(), axes))\n",
    "\n",
    "    for split, results in splits.items():\n",
    "        y_true = np.asarray(results[\"y_true\"])\n",
    "        y_pred = np.asarray(results[\"y_pred\"])\n",
    "        _plot_confusion_matrix(\n",
    "            mapping[split], y_true, y_pred, labels, class_names, split\n",
    "        )\n",
    "    for ax in mapping.values():\n",
    "        ax.tick_params(axis=\"x\", labelrotation=45, labelsize=8)\n",
    "    fig.suptitle(\"Confusion Matrices\", y=0.98)\n",
    "    fig.tight_layout()\n",
    "\n",
    "    # Save\n",
    "    out_dir = Path(out_dir)\n",
    "    out_dir.mkdir(parents=True, exist_ok=True)\n",
    "    out_path = out_dir / filename\n",
    "    fig.savefig(out_path, dpi=150, bbox_inches=\"tight\")\n",
    "    plt.close(fig)\n",
    "\n",
    "    print(f\"Saved confusion matrices to:\\n- {out_path}\")\n"
   ]
  },
  {
   "cell_type": "code",
   "execution_count": null,
   "id": "f8b44e8c",
   "metadata": {},
   "outputs": [],
   "source": [
    "from torchinfo import summary\n",
    "\n",
    "def export_model_architecture(\n",
    "    model, \n",
    "    dataloader, \n",
    "    out_dir,\n",
    "    filename=\"model_architecture.txt\"):\n",
    "    \"\"\"\n",
    "    Save model architecture and a detailed summary into a text file.\n",
    "    \"\"\"\n",
    "\n",
    "    X, _ = next(iter(dataloader))\n",
    "    input_size = tuple(X.shape)\n",
    "    device = next(model.parameters()).device\n",
    "\n",
    "    plain_arch = str(model)\n",
    "    model_summary = summary(model, input_size=input_size, device=device, verbose=0)\n",
    "\n",
    "    text = (\n",
    "        \"===== MODEL ARCHITECTURE (str(model)) =====\\n\"\n",
    "        f\"{plain_arch}\\n\\n\"\n",
    "        \"===== DETAILED SUMMARY (torchinfo) =====\\n\"\n",
    "        f\"{model_summary}\\n\"\n",
    "    )\n",
    "\n",
    "    out_path = Path(out_dir) / filename\n",
    "    out_path.parent.mkdir(parents=True, exist_ok=True)\n",
    "\n",
    "    out_path.write_text(text)\n",
    "\n",
    "    print(f\"Model architecture + summary saved to :\\n-{out_path}\")\n"
   ]
  },
  {
   "cell_type": "code",
   "execution_count": 80,
   "id": "25d2c040",
   "metadata": {},
   "outputs": [],
   "source": [
    "out_dir = \"LeaflictionCNN_\" + str(datetime.now().strftime(\"%Y-%m-%d %H:%M\"))"
   ]
  },
  {
   "cell_type": "code",
   "execution_count": 109,
   "id": "02628932",
   "metadata": {},
   "outputs": [
    {
     "name": "stdout",
     "output_type": "stream",
     "text": [
      "Model architecture + summary saved to :\n",
      "-LeaflictionCNN_2025-09-18 15:08/model_architecture.txt\n",
      "Saved learning curves plots to: \n",
      "- LeaflictionCNN_2025-09-18 15:08/learning_curves.png\n",
      "Saved history to: \n",
      "- LeaflictionCNN_2025-09-18 15:08/learning_history.csv\n",
      "Saved confusion matrices to:\n",
      "- LeaflictionCNN_2025-09-18 15:08/confusion_matrices.png\n",
      "Saved classification report for 'train' to:\n",
      "- LeaflictionCNN_2025-09-18 15:08/classification_report.txt\n",
      "- LeaflictionCNN_2025-09-18 15:08/classification_report.csv\n",
      "Saved classification report for 'val' to:\n",
      "- LeaflictionCNN_2025-09-18 15:08/classification_report.txt\n",
      "- LeaflictionCNN_2025-09-18 15:08/classification_report.csv\n",
      "Saved classification report for 'test' to:\n",
      "- LeaflictionCNN_2025-09-18 15:08/classification_report.txt\n",
      "- LeaflictionCNN_2025-09-18 15:08/classification_report.csv\n"
     ]
    }
   ],
   "source": [
    "\n",
    "export_model_architecture(\n",
    "    model=model, \n",
    "    dataloader=data.loaders['train'], \n",
    "    out_dir=out_dir\n",
    "    )\n",
    "plot_learning_curves(\n",
    "    train_loss = history['train_loss'], \n",
    "    train_acc = history['train_acc'], \n",
    "    val_loss = history['val_loss'], \n",
    "    val_acc = history['val_acc'], \n",
    "    out_dir=out_dir\n",
    "    )\n",
    "\n",
    "save_history_csv(history=history, out_dir=out_dir)\n",
    "\n",
    "export_confusion_matrices(\n",
    "    train_results=train_results, \n",
    "    val_results=val_results, \n",
    "    test_results=test_results,\n",
    "    out_dir=out_dir, \n",
    "    class_names=class_names\n",
    "    )\n",
    "\n",
    "export_classification_reports(\n",
    "    train_results=train_results, \n",
    "    val_results=val_results, \n",
    "    test_results=test_results, \n",
    "    out_dir=out_dir, \n",
    "    class_names=class_names\n",
    "    )\n"
   ]
  },
  {
   "cell_type": "code",
   "execution_count": null,
   "id": "975c2994",
   "metadata": {},
   "outputs": [],
   "source": []
  }
 ],
 "metadata": {
  "kernelspec": {
   "display_name": "42-leaffliction",
   "language": "python",
   "name": "python3"
  },
  "language_info": {
   "codemirror_mode": {
    "name": "ipython",
    "version": 3
   },
   "file_extension": ".py",
   "mimetype": "text/x-python",
   "name": "python",
   "nbconvert_exporter": "python",
   "pygments_lexer": "ipython3",
   "version": "3.10.13"
  }
 },
 "nbformat": 4,
 "nbformat_minor": 5
}
