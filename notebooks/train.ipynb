{
 "cells": [
  {
   "cell_type": "code",
   "execution_count": 1,
   "id": "d7a76d7a",
   "metadata": {},
   "outputs": [
    {
     "name": "stderr",
     "output_type": "stream",
     "text": [
      "[2025-09-17 18:05:34] [INFO] scripts.utils.data: Initializing LeaflictionData\n",
      "[2025-09-17 18:05:34] [INFO] scripts.utils.data: Datasets are ready. Skipping preprocessing\n",
      "[2025-09-17 18:05:34] [INFO] scripts.utils.data: Successfully loaded '/Users/a.villa.massone/Code/42/42_Leaffliction/images_augmented/Apple'\n",
      "[2025-09-17 18:05:34] [INFO] scripts.utils.data: Successfully loaded '/Users/a.villa.massone/Code/42/42_Leaffliction/images_augmented/Apple_train'\n",
      "[2025-09-17 18:05:34] [INFO] scripts.utils.data: Successfully loaded '/Users/a.villa.massone/Code/42/42_Leaffliction/images_augmented/Apple_val'\n",
      "[2025-09-17 18:05:34] [INFO] scripts.utils.data: Successfully loaded '/Users/a.villa.massone/Code/42/42_Leaffliction/images_augmented/Apple_test'\n",
      "[2025-09-17 18:05:34] [INFO] scripts.utils.data: Successfully loaded '/Users/a.villa.massone/Code/42/42_Leaffliction/images_augmented/Apple_train_raw'\n",
      "[2025-09-17 18:05:34] [INFO] scripts.utils.data: Data loaders available : dict_keys(['train', 'test', 'val'])\n"
     ]
    }
   ],
   "source": [
    "import sys\n",
    "import os\n",
    "\n",
    "sys.path.append(os.path.abspath(\"..\"))\n",
    "\n",
    "from scripts.utils.data import LeaflictionData\n",
    "\n",
    "batch_size = 128\n",
    "\n",
    "data = LeaflictionData(\n",
    "    original_dir=\"/Users/a.villa.massone/Code/42/42_Leaffliction/images/Apple\",\n",
    "    force_preproc=False,\n",
    "    test_split=0.2,\n",
    "    val_split=0.2,\n",
    "    batch_size=batch_size,\n",
    ")\n"
   ]
  },
  {
   "cell_type": "code",
   "execution_count": 2,
   "id": "4e50b0dc",
   "metadata": {},
   "outputs": [
    {
     "name": "stderr",
     "output_type": "stream",
     "text": [
      "[2025-09-17 18:05:34] [INFO] scripts.utils.model: Initializing LeaflictionCNN\n"
     ]
    },
    {
     "name": "stdout",
     "output_type": "stream",
     "text": [
      "Using mps device\n",
      "LeaflictionCNN(\n",
      "  (features): Sequential(\n",
      "    (0): Conv2d(3, 16, kernel_size=(3, 3), stride=(1, 1), padding=(1, 1))\n",
      "    (1): ReLU()\n",
      "    (2): MaxPool2d(kernel_size=2, stride=2, padding=0, dilation=1, ceil_mode=False)\n",
      "    (3): Conv2d(16, 32, kernel_size=(3, 3), stride=(1, 1), padding=(1, 1))\n",
      "    (4): ReLU()\n",
      "    (5): MaxPool2d(kernel_size=2, stride=2, padding=0, dilation=1, ceil_mode=False)\n",
      "    (6): AdaptiveAvgPool2d(output_size=1)\n",
      "  )\n",
      "  (classifier): Sequential(\n",
      "    (0): Flatten(start_dim=1, end_dim=-1)\n",
      "    (1): Linear(in_features=32, out_features=128, bias=True)\n",
      "    (2): ReLU()\n",
      "    (3): Dropout(p=0.3, inplace=False)\n",
      "    (4): Linear(in_features=128, out_features=4, bias=True)\n",
      "  )\n",
      ")\n"
     ]
    }
   ],
   "source": [
    "from scripts.utils.model import LeaflictionCNN\n",
    "import torch\n",
    "\n",
    "device = (\"cuda\" if torch.cuda.is_available()\n",
    "          else \"mps\" if torch.backends.mps.is_available()\n",
    "          else \"cpu\")\n",
    "print(f\"Using {device} device\")\n",
    "\n",
    "model = LeaflictionCNN(num_classes=4, device=device).to(device)\n",
    "print(model)"
   ]
  },
  {
   "cell_type": "code",
   "execution_count": 3,
   "id": "67725660",
   "metadata": {},
   "outputs": [],
   "source": [
    "def train_one_epoch(model, dataloader, loss_fn, optimizer):\n",
    "    model.train()\n",
    "    device = next(model.parameters()).device\n",
    "\n",
    "    running_loss = 0.0\n",
    "    running_acc = 0.0\n",
    "    seen = 0\n",
    "\n",
    "    for batch_idx, (X, y) in enumerate(tqdm(dataloader, total=len(dataloader)), start=1):\n",
    "        X, y = X.to(device), y.to(device)\n",
    "\n",
    "        optimizer.zero_grad()\n",
    "        logits = model(X)\n",
    "        loss = loss_fn(logits, y)\n",
    "        loss.backward()\n",
    "        optimizer.step()\n",
    "\n",
    "        # Log progress\n",
    "        bsz = X.size(0)\n",
    "        running_loss += loss.item() * bsz\n",
    "        running_acc  += (logits.argmax(1) == y).float().sum().item()\n",
    "        seen += bsz\n",
    "\n",
    "        # Log progress every 50 batches of 64 images (every 3200 images)\n",
    "        # if batch_idx % 50 == 0 or batch_idx == len(dataloader):\n",
    "        #     print(f\"[{batch_idx:>4d}/{len(dataloader)}] \"\n",
    "        #           f\"train_loss: {running_loss/seen:.4f}  train_acc: {running_acc/seen:.4f}\")\n",
    "\n"
   ]
  },
  {
   "cell_type": "code",
   "execution_count": null,
   "id": "bbce2a18",
   "metadata": {},
   "outputs": [],
   "source": [
    "def evaluate(model, dataloader, text, loss_fn=None):\n",
    "    \"\"\"\n",
    "    Evaluates the model on a dataloader.\n",
    "    If loss_fn is provided, also returns/prints average loss.\n",
    "    Returns: (avg_loss_or_None, avg_acc)\n",
    "    \"\"\"\n",
    "    model.eval()\n",
    "    device = next(model.parameters()).device\n",
    "\n",
    "    total_loss = 0.0\n",
    "    total_correct = 0\n",
    "    total_samples = 0\n",
    "\n",
    "    y_true, y_pred = [], []\n",
    "\n",
    "    results = {}\n",
    "\n",
    "    with torch.no_grad():\n",
    "        for X, y in dataloader:\n",
    "            X, y = X.to(device), y.to(device)\n",
    "            logits = model(X)\n",
    "\n",
    "            y_true += y.tolist()\n",
    "            y_pred += logits.argmax(1).cpu().tolist()\n",
    "\n",
    "            if loss_fn is not None:\n",
    "                total_loss += loss_fn(logits, y).item() * X.size(0)\n",
    "\n",
    "            total_correct += (logits.argmax(1) == y).sum().item()\n",
    "            total_samples += X.size(0)\n",
    "\n",
    "    accuracy = total_correct / max(1, total_samples)\n",
    "    if loss_fn is not None:\n",
    "        loss = total_loss / max(1, total_samples)\n",
    "        print(f\"{text}:/t{text}_loss={loss:.4f}  {text}_acc={accuracy:.4f}\")\n",
    "    else:\n",
    "        print(f\"{text}:/t{text}_acc={accuracy:.4f}\")\n",
    "\n",
    "    results['accuracy'] = accuracy\n",
    "    results['loss'] = loss\n",
    "    results['y_true'] = y_true\n",
    "    results['y_pred'] = y_pred\n",
    "\n",
    "    return results"
   ]
  },
  {
   "cell_type": "code",
   "execution_count": 5,
   "id": "efd6be30",
   "metadata": {},
   "outputs": [
    {
     "data": {
      "text/plain": [
       "(14189, 128, 111, 4)"
      ]
     },
     "execution_count": 5,
     "metadata": {},
     "output_type": "execute_result"
    }
   ],
   "source": [
    "# Dataset size (number of samples)\n",
    "N = len(data.loaders['train'].dataset)\n",
    "\n",
    "# Batch size requested (None if using batch_sampler)\n",
    "B = data.loaders['train'].batch_size\n",
    "\n",
    "N, B, len(data.loaders['train']), len(data.loaders['val'])\n"
   ]
  },
  {
   "cell_type": "code",
   "execution_count": 6,
   "id": "28ba80d0",
   "metadata": {},
   "outputs": [
    {
     "name": "stdout",
     "output_type": "stream",
     "text": [
      "Starting training of LeaflictionCNN\n",
      "-------------------------------\n",
      "Epoch 1\n"
     ]
    },
    {
     "name": "stderr",
     "output_type": "stream",
     "text": [
      "100%|██████████| 111/111 [01:01<00:00,  1.80it/s]\n"
     ]
    },
    {
     "name": "stdout",
     "output_type": "stream",
     "text": [
      "train: train_loss=0.9941  train_acc=0.5491\n",
      "val: val_loss=0.9483  val_acc=0.6158\n",
      "-------------------------------\n",
      "Epoch 2\n"
     ]
    },
    {
     "name": "stderr",
     "output_type": "stream",
     "text": [
      "100%|██████████| 111/111 [00:40<00:00,  2.72it/s]\n"
     ]
    },
    {
     "name": "stdout",
     "output_type": "stream",
     "text": [
      "train: train_loss=0.9127  train_acc=0.5868\n",
      "val: val_loss=0.8868  val_acc=0.6337\n",
      "-------------------------------\n",
      "Epoch 3\n"
     ]
    },
    {
     "name": "stderr",
     "output_type": "stream",
     "text": [
      "100%|██████████| 111/111 [00:37<00:00,  2.99it/s]\n"
     ]
    },
    {
     "name": "stdout",
     "output_type": "stream",
     "text": [
      "train: train_loss=0.8578  train_acc=0.6122\n",
      "val: val_loss=0.8605  val_acc=0.6040\n",
      "-------------------------------\n",
      "Epoch 4\n"
     ]
    },
    {
     "name": "stderr",
     "output_type": "stream",
     "text": [
      "100%|██████████| 111/111 [00:37<00:00,  2.99it/s]\n"
     ]
    },
    {
     "name": "stdout",
     "output_type": "stream",
     "text": [
      "train: train_loss=0.8117  train_acc=0.6373\n",
      "val: val_loss=0.8438  val_acc=0.6158\n",
      "-------------------------------\n",
      "Epoch 5\n"
     ]
    },
    {
     "name": "stderr",
     "output_type": "stream",
     "text": [
      "100%|██████████| 111/111 [00:51<00:00,  2.14it/s]\n"
     ]
    },
    {
     "name": "stdout",
     "output_type": "stream",
     "text": [
      "train: train_loss=0.7848  train_acc=0.6595\n",
      "val: val_loss=0.8116  val_acc=0.6515\n",
      "-------------------------------\n",
      "Epoch 6\n"
     ]
    },
    {
     "name": "stderr",
     "output_type": "stream",
     "text": [
      "100%|██████████| 111/111 [01:00<00:00,  1.84it/s]\n"
     ]
    },
    {
     "name": "stdout",
     "output_type": "stream",
     "text": [
      "train: train_loss=0.7742  train_acc=0.6710\n",
      "val: val_loss=0.7754  val_acc=0.6851\n",
      "-------------------------------\n",
      "Epoch 7\n"
     ]
    },
    {
     "name": "stderr",
     "output_type": "stream",
     "text": [
      "100%|██████████| 111/111 [00:47<00:00,  2.34it/s]\n"
     ]
    },
    {
     "name": "stdout",
     "output_type": "stream",
     "text": [
      "train: train_loss=0.6861  train_acc=0.7087\n",
      "val: val_loss=0.6933  val_acc=0.7287\n",
      "-------------------------------\n",
      "Epoch 8\n"
     ]
    },
    {
     "name": "stderr",
     "output_type": "stream",
     "text": [
      "100%|██████████| 111/111 [00:38<00:00,  2.86it/s]\n"
     ]
    },
    {
     "name": "stdout",
     "output_type": "stream",
     "text": [
      "train: train_loss=0.6339  train_acc=0.7353\n",
      "val: val_loss=0.6016  val_acc=0.7624\n",
      "-------------------------------\n",
      "Epoch 9\n"
     ]
    },
    {
     "name": "stderr",
     "output_type": "stream",
     "text": [
      "100%|██████████| 111/111 [00:57<00:00,  1.94it/s]\n"
     ]
    },
    {
     "name": "stdout",
     "output_type": "stream",
     "text": [
      "train: train_loss=0.5677  train_acc=0.7698\n",
      "val: val_loss=0.5950  val_acc=0.7584\n",
      "-------------------------------\n",
      "Epoch 10\n"
     ]
    },
    {
     "name": "stderr",
     "output_type": "stream",
     "text": [
      "100%|██████████| 111/111 [00:55<00:00,  1.99it/s]\n"
     ]
    },
    {
     "name": "stdout",
     "output_type": "stream",
     "text": [
      "train: train_loss=0.5625  train_acc=0.7682\n",
      "val: val_loss=0.6038  val_acc=0.7426\n",
      "Done!\n"
     ]
    }
   ],
   "source": [
    "from tqdm import tqdm\n",
    "from torch import nn\n",
    "from pathlib import Path\n",
    "import matplotlib.pyplot as plt\n",
    "\n",
    "# --- history container ---\n",
    "history = {\n",
    "    \"train_loss\": [],\n",
    "    \"train_acc\":  [],\n",
    "    \"val_loss\":   [],\n",
    "    \"val_acc\":    [],\n",
    "}\n",
    "\n",
    "learning_rate = 1e-3\n",
    "loss = nn.CrossEntropyLoss()\n",
    "optimizer = torch.optim.AdamW(model.parameters(), lr=learning_rate) # Adam\n",
    "epochs = 10\n",
    "\n",
    "best_acc, patience, bad = 0.0, 7, 0\n",
    "best_state = None\n",
    "\n",
    "print(\"Starting training of LeaflictionCNN\")\n",
    "for epoch in range(1, epochs + 1):\n",
    "\n",
    "    print(f\"-------------------------------\\nEpoch {epoch}\")\n",
    "    train_one_epoch(model=model, dataloader=data.loaders['train'], loss_fn=loss, optimizer=optimizer)\n",
    "\n",
    "    train_results = evaluate(model=model, dataloader=data.loaders['train'], loss_fn=loss, text='train')\n",
    "    val_results = evaluate(model=model, dataloader=data.loaders['val'], loss_fn=loss, text='val')\n",
    "\n",
    "    history[\"train_loss\"].append(train_results['loss'])\n",
    "    history[\"train_acc\"].append(train_results['accuracy'])\n",
    "    history[\"val_loss\"].append(val_results['loss'])\n",
    "    history[\"val_acc\"].append(val_results['accuracy'])\n",
    "\n",
    "    if val_results['accuracy'] > best_acc:\n",
    "        best_acc = val_results['accuracy']\n",
    "        # best_state = {k:v.cpu() for k,v in model.state_dict().items()}\n",
    "        bad = 0\n",
    "    else:\n",
    "        bad += 1\n",
    "        if bad >= patience:\n",
    "            print(f\"Early stopping. Restauring state from epoch {epoch - bad}\")\n",
    "            break\n",
    "        \n",
    "print(\"Done!\")\n",
    "\n",
    "# if best_state is not None:\n",
    "    # model.load_state_dict({k:v.to(device) for k,v in best_state.items()})\n"
   ]
  },
  {
   "cell_type": "code",
   "execution_count": 7,
   "id": "dfe9b6f1",
   "metadata": {},
   "outputs": [],
   "source": [
    "from datetime import datetime\n",
    "\n",
    "def plot_learning_curves(history, out_dir):\n",
    "   \n",
    "    filename = \"learning_curves.png\"\n",
    "\n",
    "    Path(out_dir).mkdir(parents=True, exist_ok=True)\n",
    "\n",
    "    epochs = range(1, len(history[\"train_loss\"]) + 1)\n",
    "\n",
    "    # --- Loss ---\n",
    "    plt.figure()\n",
    "    plt.plot(epochs, history[\"train_loss\"], label=\"Train Loss\")\n",
    "    plt.plot(epochs, history[\"val_loss\"],   label=\"Val Loss\")\n",
    "    plt.xlabel(\"Epoch\")\n",
    "    plt.ylabel(\"Loss\")\n",
    "    plt.title(\"Learning Curve – Loss\")\n",
    "    plt.legend()\n",
    "    plt.grid(True, linestyle=\"--\", alpha=0.4)\n",
    "    loss_path = Path(out_dir) / f\"loss_{filename}\"\n",
    "    plt.savefig(loss_path, bbox_inches=\"tight\", dpi=150)\n",
    "    plt.close()\n",
    "\n",
    "    # --- Accuracy ---\n",
    "    plt.figure()\n",
    "    plt.plot(epochs, history[\"train_acc\"], label=\"Train Acc\")\n",
    "    plt.plot(epochs, history[\"val_acc\"],   label=\"Val Acc\")\n",
    "    plt.xlabel(\"Epoch\")\n",
    "    plt.ylabel(\"Accuracy\")\n",
    "    plt.title(\"Learning Curve – Accuracy\")\n",
    "    plt.legend()\n",
    "    plt.grid(True, linestyle=\"--\", alpha=0.4)\n",
    "    acc_path = Path(out_dir) / f\"acc_{filename}\"\n",
    "    plt.savefig(acc_path, bbox_inches=\"tight\", dpi=150)\n",
    "    plt.close()\n",
    "\n",
    "    print(f\"Saved plots to:\\n- {loss_path}\\n- {acc_path}\")\n",
    "\n",
    "\n"
   ]
  },
  {
   "cell_type": "code",
   "execution_count": 8,
   "id": "ca638582",
   "metadata": {},
   "outputs": [],
   "source": [
    "import csv\n",
    "from pathlib import Path\n",
    "\n",
    "def save_history_csv(history, out_dir):\n",
    "    filename = \"history.csv\"\n",
    "    out_path = Path(out_dir) / Path(filename)\n",
    "    Path(out_path).parent.mkdir(parents=True, exist_ok=True)\n",
    "    with open(out_path, \"w\", newline=\"\") as f:\n",
    "        writer = csv.writer(f)\n",
    "        writer.writerow([\"epoch\", \"train_loss\", \"train_acc\", \"val_loss\", \"val_acc\"])\n",
    "        for i in range(len(history[\"train_loss\"])):\n",
    "            writer.writerow([i+1,\n",
    "                             history[\"train_loss\"][i],\n",
    "                             history[\"train_acc\"][i],\n",
    "                             history[\"val_loss\"][i],\n",
    "                             history[\"val_acc\"][i]])\n",
    "    print(f\"Saved history to: {out_path}\")\n",
    "\n",
    "\n"
   ]
  },
  {
   "cell_type": "code",
   "execution_count": 28,
   "id": "e1030958",
   "metadata": {},
   "outputs": [],
   "source": [
    "from pathlib import Path\n",
    "import numpy as np\n",
    "import pandas as pd\n",
    "from sklearn.metrics import classification_report\n",
    "\n",
    "def export_classification_reports(\n",
    "    train_results,\n",
    "    val_results,\n",
    "    out_dir,\n",
    "    class_names=None,      # e.g. [\"Apple Scab\", \"Black Rot\", \"Cedar Rust\", \"Healthy\"]\n",
    "    base_filename=\"classification_report\",\n",
    "    digits=3\n",
    "):\n",
    "    \"\"\"\n",
    "    train_results / val_results: dicts with 'y_true' and 'y_pred' (lists/ndarrays of ints)\n",
    "    Exports:\n",
    "      - plots/classification_report_train.txt\n",
    "      - plots/classification_report_val.txt\n",
    "      - plots/classification_report.csv  (rows=classes/averages, columns=precision/recall/f1/support per split)\n",
    "    \"\"\"\n",
    "    Path(out_dir).mkdir(parents=True, exist_ok=True)\n",
    "\n",
    "    y_true_train = np.asarray(train_results[\"y_true\"])\n",
    "    y_pred_train = np.asarray(train_results[\"y_pred\"])\n",
    "    y_true_val   = np.asarray(val_results[\"y_true\"])\n",
    "    y_pred_val   = np.asarray(val_results[\"y_pred\"])\n",
    "\n",
    "    # Consistent label order across splits\n",
    "    labels = np.unique(np.concatenate([y_true_train, y_true_val]))\n",
    "    target_names = class_names if (class_names is not None and len(class_names) == len(labels)) else None\n",
    "\n",
    "    # -------- TXT (pretty) --------\n",
    "    cr_train_txt = classification_report(\n",
    "        y_true_train, y_pred_train, labels=labels, target_names=target_names, digits=digits, zero_division=0\n",
    "    )\n",
    "    cr_val_txt = classification_report(\n",
    "        y_true_val, y_pred_val, labels=labels, target_names=target_names, digits=digits, zero_division=0\n",
    "    )\n",
    "\n",
    "    (Path(out_dir) / f\"{base_filename}_train.txt\").write_text(cr_train_txt)\n",
    "    (Path(out_dir) / f\"{base_filename}_val.txt\").write_text(cr_val_txt)\n",
    "\n",
    "    # -------- CSV (tidy) --------\n",
    "    cr_train_dict = classification_report(\n",
    "        y_true_train, y_pred_train, labels=labels, target_names=target_names, digits=digits, zero_division=0, output_dict=True\n",
    "    )\n",
    "    cr_val_dict = classification_report(\n",
    "        y_true_val, y_pred_val, labels=labels, target_names=target_names, digits=digits, zero_division=0, output_dict=True\n",
    "    )\n",
    "\n",
    "    df_train = pd.DataFrame(cr_train_dict).T\n",
    "    df_val   = pd.DataFrame(cr_val_dict).T\n",
    "\n",
    "    # If keys are numeric strings, map to class_names (for readability)\n",
    "    if target_names is not None:\n",
    "        idx_map = {str(lbl): name for lbl, name in zip(labels, target_names)}\n",
    "        df_train = df_train.rename(index=idx_map)\n",
    "        df_val   = df_val.rename(index=idx_map)\n",
    "\n",
    "    # Add split labels then concatenate\n",
    "    df_train[\"split\"] = \"train\"\n",
    "    df_val[\"split\"]   = \"val\"\n",
    "    df_all = pd.concat([df_train, df_val], axis=0, ignore_index=False)\n",
    "\n",
    "    out_csv = Path(out_dir) / f\"{base_filename}.csv\"\n",
    "    df_all.to_csv(out_csv, index=True)\n",
    "\n",
    "    print(f\"Saved classification report to :\\n- {Path(out_dir) / f'{base_filename}_train.txt'}\\n- {Path(out_dir) / f'{base_filename}_val.txt'}\\n- {out_csv}\")\n"
   ]
  },
  {
   "cell_type": "code",
   "execution_count": 25,
   "id": "008cc65f",
   "metadata": {},
   "outputs": [],
   "source": [
    "from pathlib import Path\n",
    "import numpy as np\n",
    "import matplotlib.pyplot as plt\n",
    "from sklearn.metrics import confusion_matrix, ConfusionMatrixDisplay\n",
    "\n",
    "def export_confusion_matrices(\n",
    "    train_results, \n",
    "    val_results, \n",
    "    out_dir, \n",
    "    class_names=None,           # ex: [\"Apple Scab\", \"Black Rot\", \"Cedar Rust\", \"Healthy\"]\n",
    "    normalize=None,             # None | \"true\" | \"pred\" | \"all\"\n",
    "    filename=\"confusion_matrices.png\"\n",
    "):\n",
    "    \"\"\"\n",
    "    train_results / val_results: dicts avec 'y_true' et 'y_pred' (list/ndarray d'entiers)\n",
    "    normalize: None (comptes bruts) ou 'true'/'pred'/'all' pour des proportions\n",
    "    Sauvegarde l'image dans out_dir/filename\n",
    "    \"\"\"\n",
    "    y_true_train = np.asarray(train_results[\"y_true\"])\n",
    "    y_pred_train = np.asarray(train_results[\"y_pred\"])\n",
    "    y_true_val   = np.asarray(val_results[\"y_true\"])\n",
    "    y_pred_val   = np.asarray(val_results[\"y_pred\"])\n",
    "\n",
    "    # Déterminer les labels\n",
    "    if class_names is None:\n",
    "        labels = np.unique(np.concatenate([y_true_train, y_true_val]))\n",
    "        display_labels = [str(x) for x in labels]\n",
    "    else:\n",
    "        labels = np.arange(len(class_names))\n",
    "        display_labels = class_names\n",
    "\n",
    "    # Confusion matrices (⚠️ train pour train, val pour val)\n",
    "    cm_train = confusion_matrix(y_true_train, y_pred_train, labels=labels, normalize=normalize)\n",
    "    cm_val   = confusion_matrix(y_true_val,   y_pred_val,   labels=labels, normalize=normalize)\n",
    "\n",
    "    # Figure côte à côte\n",
    "    fig, axes = plt.subplots(1, 2, figsize=(10, 5))\n",
    "    fmt = \".2f\" if normalize else \"d\"\n",
    "\n",
    "    disp_train = ConfusionMatrixDisplay(cm_train, display_labels=display_labels)\n",
    "    disp_val   = ConfusionMatrixDisplay(cm_val,   display_labels=display_labels)\n",
    "\n",
    "    disp_train.plot(ax=axes[0], values_format=fmt)\n",
    "    disp_val.plot(ax=axes[1],   values_format=fmt)\n",
    "\n",
    "    axes[0].set_title(\"Train\")\n",
    "    axes[1].set_title(\"Validation\")\n",
    "    fig.suptitle(\"Confusion Matrices\", y=0.98)\n",
    "    fig.tight_layout()\n",
    "\n",
    "    Path(out_dir).mkdir(parents=True, exist_ok=True)\n",
    "    out_path = Path(out_dir) / filename\n",
    "    fig.savefig(out_path, dpi=150, bbox_inches=\"tight\")\n",
    "    plt.close(fig)\n",
    "    print(f\"Saved confusion matrices to {out_path}\")\n"
   ]
  },
  {
   "cell_type": "code",
   "execution_count": null,
   "id": "d1aca1b7",
   "metadata": {},
   "outputs": [
    {
     "name": "stdout",
     "output_type": "stream",
     "text": [
      "              precision    recall  f1-score   support\n",
      "\n",
      "           0      0.514     0.899     0.654        99\n",
      "           1      0.960     0.733     0.831       262\n",
      "           2      0.843     0.977     0.905        44\n",
      "           3      0.630     0.510     0.564       100\n",
      "\n",
      "    accuracy                          0.743       505\n",
      "   macro avg      0.737     0.780     0.739       505\n",
      "weighted avg      0.797     0.743     0.750       505\n",
      "\n",
      "              precision    recall  f1-score   support\n",
      "\n",
      "           0      0.624     0.757     0.684      3416\n",
      "           1      0.873     0.755     0.810      3577\n",
      "           2      0.852     0.994     0.918      3601\n",
      "           3      0.740     0.565     0.641      3595\n",
      "\n",
      "    accuracy                          0.768     14189\n",
      "   macro avg      0.772     0.768     0.763     14189\n",
      "weighted avg      0.774     0.768     0.764     14189\n",
      "\n"
     ]
    }
   ],
   "source": [
    "from sklearn.metrics import classification_report\n",
    "\n",
    "print(classification_report(val_results['y_true'], val_results['y_pred'], digits=3))\n",
    "print(classification_report(train_results['y_true'], train_results['y_pred'], digits=3))"
   ]
  },
  {
   "cell_type": "code",
   "execution_count": null,
   "id": "25d2c040",
   "metadata": {},
   "outputs": [],
   "source": [
    "out_dir = \"learning_curves_\" + str(datetime.now())"
   ]
  },
  {
   "cell_type": "code",
   "execution_count": 29,
   "id": "02628932",
   "metadata": {},
   "outputs": [
    {
     "name": "stdout",
     "output_type": "stream",
     "text": [
      "Saved plots to:\n",
      "- learning_curves_2025-09-17 18:27:06.952330/loss_learning_curves.png\n",
      "- learning_curves_2025-09-17 18:27:06.952330/acc_learning_curves.png\n",
      "Saved history to: learning_curves_2025-09-17 18:27:06.952330/history.csv\n",
      "Saved confusion matrices to learning_curves_2025-09-17 18:27:06.952330/confusion_matrices.png\n",
      "Saved classification report to :\n",
      "- learning_curves_2025-09-17 18:27:06.952330/classification_report_train.txt\n",
      "- learning_curves_2025-09-17 18:27:06.952330/classification_report_val.txt\n",
      "- learning_curves_2025-09-17 18:27:06.952330/classification_report.csv\n"
     ]
    }
   ],
   "source": [
    "\n",
    "plot_learning_curves(history, out_dir)\n",
    "save_history_csv(history, out_dir)\n",
    "export_confusion_matrices(train_results, val_results, out_dir)\n",
    "export_classification_reports(train_results, val_results, out_dir=out_dir)"
   ]
  },
  {
   "cell_type": "code",
   "execution_count": null,
   "id": "975c2994",
   "metadata": {},
   "outputs": [],
   "source": []
  }
 ],
 "metadata": {
  "kernelspec": {
   "display_name": "42-leaffliction",
   "language": "python",
   "name": "python3"
  },
  "language_info": {
   "codemirror_mode": {
    "name": "ipython",
    "version": 3
   },
   "file_extension": ".py",
   "mimetype": "text/x-python",
   "name": "python",
   "nbconvert_exporter": "python",
   "pygments_lexer": "ipython3",
   "version": "3.10.13"
  }
 },
 "nbformat": 4,
 "nbformat_minor": 5
}
